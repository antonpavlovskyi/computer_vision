{
 "cells": [
  {
   "cell_type": "code",
   "execution_count": 2,
   "metadata": {
    "collapsed": true
   },
   "outputs": [],
   "source": [
    "import numpy as np # linear algebra\n",
    "import pandas as pd # data processing, CSV file I/O (e.g. pd.read_csv)\n",
    "\n",
    "import matplotlib.pyplot as plt\n",
    "import cv2\n",
    "from numpy.linalg import norm\n",
    "import datetime\n",
    "from sklearn import svm\n",
    "from sklearn.model_selection import cross_val_score"
   ]
  },
  {
   "cell_type": "code",
   "execution_count": 8,
   "outputs": [],
   "source": [
    "#import data and define the classes\n",
    "train_data = pd.read_csv('./data/digit/train.csv')\n",
    "test_data = pd.read_csv('./data/digit/test.csv')\n",
    "class_names = ['0','1','2','3','4','5','6','7','8','9']"
   ],
   "metadata": {
    "collapsed": false,
    "pycharm": {
     "name": "#%%\n"
    }
   }
  },
  {
   "cell_type": "code",
   "execution_count": 26,
   "outputs": [],
   "source": [
    "#split out the data into features (pixel values) and categorical labels (digit values 0-9)\n",
    "train_x = train_data.iloc[:,1:].values.astype('int32') # all pixel values\n",
    "train_y = train_data.iloc[:,0].values.astype('int32') # only labels i.e targets digits\n",
    "\n",
    "test_x = test_data.iloc[:,].values.astype('int32') # all pixel values\n",
    "test_y = test_data.iloc[:,0].values.astype('int32') # only labels i.e targets digits\n",
    "\n",
    "#reshape the features to be 28x28\n",
    "train_x = train_x.reshape(train_x.shape[:1] + (28, 28, 1))\n",
    "\n",
    "test_x = test_x.reshape(test_x.shape[:1] + (28, 28, 1))\n",
    "\n",
    "# #normalize pixel values using minmax (values between 0 and 1 inclusive)\n",
    "train_x = train_x / 255\n",
    "test_x = test_x / 255"
   ],
   "metadata": {
    "collapsed": false,
    "pycharm": {
     "name": "#%%\n"
    }
   }
  },
  {
   "cell_type": "code",
   "execution_count": 10,
   "outputs": [
    {
     "data": {
      "text/plain": "<Figure size 864x864 with 5 Axes>",
      "image/png": "[encoded data removed]"
     },
     "metadata": {},
     "output_type": "display_data"
    }
   ],
   "source": [
    "#plot a first 5 of features and labels to check data\n",
    "plt.figure(figsize=(12,12))\n",
    "for i in range(5):\n",
    "    plt.subplot(5,5,i+1)\n",
    "    plt.xticks([])\n",
    "    plt.yticks([])\n",
    "    plt.grid(False)\n",
    "    plt.imshow(train_x[i].reshape(28, 28), cmap=plt.cm.binary)\n",
    "    plt.xlabel(class_names[train_y[i]],fontsize = 20)\n",
    "plt.show()"
   ],
   "metadata": {
    "collapsed": false,
    "pycharm": {
     "name": "#%%\n"
    }
   }
  },
  {
   "cell_type": "code",
   "execution_count": 11,
   "outputs": [],
   "source": [
    "# Deskew images ...\n",
    "def deskew(img):\n",
    "    m = cv2.moments(img)\n",
    "    if abs(m['mu02']) < 1e-3:\n",
    "        return img.copy()\n",
    "    skew = m['mu11']/m['mu02']\n",
    "    M = np.float32([[1, skew, -0.5*28*skew], [0, 1, 0]])\n",
    "    img = cv2.warpAffine(img, M, (28, 28), flags=cv2.WARP_INVERSE_MAP | cv2.INTER_LINEAR)\n",
    "    return img"
   ],
   "metadata": {
    "collapsed": false,
    "pycharm": {
     "name": "#%%\n"
    }
   }
  },
  {
   "cell_type": "code",
   "execution_count": 27,
   "outputs": [
    {
     "data": {
      "text/plain": "<Figure size 720x720 with 2 Axes>",
      "image/png": "[encoded data removed]"
     },
     "metadata": {},
     "output_type": "display_data"
    }
   ],
   "source": [
    "train_deskewed = list(map(deskew, train_x))\n",
    "test_deskewed = list(map(deskew, test_x))\n",
    "\n",
    "showInd = 0\n",
    "\n",
    "class_name = class_names[train_y[showInd]];\n",
    "\n",
    "plt.figure(figsize=(10,10))\n",
    "plt.subplot(1,2,1)\n",
    "plt.xticks([])\n",
    "plt.yticks([])\n",
    "plt.imshow(train_x[showInd].reshape(28,28), cmap=plt.cm.binary)\n",
    "plt.xlabel('original: ' + class_name,fontsize=20)\n",
    "\n",
    "plt.subplot(1,2,2)\n",
    "plt.xticks([])\n",
    "plt.yticks([])\n",
    "plt.imshow(train_deskewed[showInd], cmap=plt.cm.binary)\n",
    "plt.xlabel('skewed: ' + class_name,fontsize=20)\n",
    "\n",
    "plt.show()"
   ],
   "metadata": {
    "collapsed": false,
    "pycharm": {
     "name": "#%%\n"
    }
   }
  },
  {
   "cell_type": "code",
   "execution_count": 13,
   "outputs": [],
   "source": [
    "# HoG feature descriptor\n",
    "def HOG(imgs):\n",
    "    hog = cv2.HOGDescriptor((28,28),(8,8),(4,4),(8,8),9,1,-1,0,0.1,1,32, True)\n",
    "    hog_descriptors = []\n",
    "    for img in imgs:\n",
    "        cv_img = np.around(img*255).astype('uint8')\n",
    "        hog_descriptors.append(hog.compute(cv_img))\n",
    "\n",
    "    hog_descriptors = np.squeeze(hog_descriptors)\n",
    "    return hog_descriptors"
   ],
   "metadata": {
    "collapsed": false,
    "pycharm": {
     "name": "#%%\n"
    }
   }
  },
  {
   "cell_type": "code",
   "execution_count": 14,
   "outputs": [
    {
     "data": {
      "text/plain": "<Figure size 720x720 with 2 Axes>",
      "image/png": "[encoded data removed]"
     },
     "metadata": {},
     "output_type": "display_data"
    }
   ],
   "source": [
    "train_hog = HOG(train_deskewed)\n",
    "test_hog = HOG(test_deskewed)\n",
    "\n",
    "plt.figure(figsize=(10,10))\n",
    "plt.subplot(1,2,1)\n",
    "plt.xticks([])\n",
    "plt.yticks([])\n",
    "plt.imshow(train_deskewed[showInd].reshape(28,28), cmap=plt.cm.binary)\n",
    "plt.xlabel('skewed: ' + class_name,fontsize=20)\n",
    "\n",
    "plt.subplot(1,2,2)\n",
    "plt.xticks([])\n",
    "plt.yticks([])\n",
    "plt.imshow(train_hog[showInd].reshape(18,18), cmap=plt.cm.binary)\n",
    "plt.xlabel('HOG: ' + class_name,fontsize=20)\n",
    "\n",
    "plt.show()"
   ],
   "metadata": {
    "collapsed": false,
    "pycharm": {
     "name": "#%%\n"
    }
   }
  },
  {
   "cell_type": "code",
   "execution_count": 15,
   "outputs": [
    {
     "name": "stdout",
     "output_type": "stream",
     "text": [
      "[0.98690476 0.98761905 0.98690476 0.98761905 0.98690476]\n"
     ]
    }
   ],
   "source": [
    "# Evaluation cross_validation\n",
    "clf = svm.SVC(kernel='linear', C=8)\n",
    "scores = cross_val_score(clf, train_hog, train_y, cv=5)\n",
    "print(scores)"
   ],
   "metadata": {
    "collapsed": false,
    "pycharm": {
     "name": "#%%\n"
    }
   }
  },
  {
   "cell_type": "code",
   "execution_count": 17,
   "outputs": [
    {
     "name": "stdout",
     "output_type": "stream",
     "text": [
      "Accuracy: 99.98 %\n"
     ]
    }
   ],
   "source": [
    "clf.fit(train_hog, train_y)\n",
    "train_result = clf.predict(train_hog)\n",
    "\n",
    "err = (train_y != train_result).mean()\n",
    "print('Accuracy: %.2f %%' % ((1 - err)*100))"
   ],
   "metadata": {
    "collapsed": false,
    "pycharm": {
     "name": "#%%\n"
    }
   }
  },
  {
   "cell_type": "code",
   "execution_count": 24,
   "outputs": [
    {
     "data": {
      "text/plain": "9.89642857142857"
     },
     "execution_count": 24,
     "metadata": {},
     "output_type": "execute_result"
    }
   ],
   "source": [
    "clf.score(test_hog, test_y) * 100"
   ],
   "metadata": {
    "collapsed": false,
    "pycharm": {
     "name": "#%%\n"
    }
   }
  }
 ],
 "metadata": {
  "kernelspec": {
   "display_name": "Python 3",
   "language": "python",
   "name": "python3"
  },
  "language_info": {
   "codemirror_mode": {
    "name": "ipython",
    "version": 2
   },
   "file_extension": ".py",
   "mimetype": "text/x-python",
   "name": "python",
   "nbconvert_exporter": "python",
   "pygments_lexer": "ipython2",
   "version": "2.7.6"
  }
 },
 "nbformat": 4,
 "nbformat_minor": 0
}